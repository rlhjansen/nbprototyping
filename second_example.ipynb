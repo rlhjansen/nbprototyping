{
 "cells": [
  {
   "cell_type": "code",
   "execution_count": 1,
   "id": "70d73899",
   "metadata": {},
   "outputs": [
    {
     "name": "stdout",
     "output_type": "stream",
     "text": [
      "baz from notebook\n"
     ]
    }
   ],
   "source": [
    "from notebook_import import import_notebook\n",
    "import os\n",
    "\n",
    "\n",
    "def bar():\n",
    "    \"\"\"dosctring\"\"\"\n",
    "    \n",
    "    # extra comment\n",
    "    return \"baz\"\n",
    "\n",
    "\n",
    "print(bar() + \" from notebook\")"
   ]
  },
  {
   "cell_type": "code",
   "execution_count": 2,
   "id": "2ad6a4d6",
   "metadata": {},
   "outputs": [
    {
     "name": "stdout",
     "output_type": "stream",
     "text": [
      "looking for notebook nested\\directory\\third_example.ipynb\n",
      "importing Jupyter notebook from nested\\directory\\third_example.ipynb\n"
     ]
    }
   ],
   "source": [
    "\n",
    "te = import_notebook('third_example', path=os.path.join('nested', 'directory'))\n",
    "# te = import_notebook('third_example.ipynb', path=os.path.join('nested', 'directory'))\n",
    "# te = import_notebook(os.path.join('nested', 'directory', 'third_example'))\n",
    "# te = import_notebook('nested.directory.third_example.ipynb')\n",
    "\n",
    "\n",
    "# te.foobar()"
   ]
  },
  {
   "cell_type": "code",
   "execution_count": 4,
   "id": "8662ff3c",
   "metadata": {},
   "outputs": [
    {
     "name": "stdout",
     "output_type": "stream",
     "text": [
      "looking for notebook nested\\directory\\third_example.ipynb\n",
      "converting Jupyter notebook from nested\\directory\\third_example.ipynb\n",
      "foobar\n"
     ]
    },
    {
     "data": {
      "text/plain": [
       "'foobar'"
      ]
     },
     "execution_count": 4,
     "metadata": {},
     "output_type": "execute_result"
    }
   ],
   "source": [
    "from notebook_import import convert_to_module\n",
    "convert_to_module(\"third_example\", overwrite=True, path=os.path.join(\"nested\", \"directory\"))\n",
    "import nested.directory.third_example as te\n",
    "te.foobar()\n"
   ]
  },
  {
   "cell_type": "code",
   "execution_count": null,
   "id": "f49f89a6",
   "metadata": {},
   "outputs": [],
   "source": [
    "from notebook_import import get_notebook_name\n",
    "\n",
    "snn = get_notebook_name()"
   ]
  },
  {
   "cell_type": "code",
   "execution_count": null,
   "id": "94334e81",
   "metadata": {},
   "outputs": [],
   "source": [
    "te"
   ]
  },
  {
   "cell_type": "code",
   "execution_count": null,
   "id": "97ebff9c",
   "metadata": {},
   "outputs": [],
   "source": []
  }
 ],
 "metadata": {
  "kernelspec": {
   "display_name": "Python 3 (ipykernel)",
   "language": "python",
   "name": "python3"
  },
  "language_info": {
   "codemirror_mode": {
    "name": "ipython",
    "version": 3
   },
   "file_extension": ".py",
   "mimetype": "text/x-python",
   "name": "python",
   "nbconvert_exporter": "python",
   "pygments_lexer": "ipython3",
   "version": "3.10.9"
  }
 },
 "nbformat": 4,
 "nbformat_minor": 5
}
