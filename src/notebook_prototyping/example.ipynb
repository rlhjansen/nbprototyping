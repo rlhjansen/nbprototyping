{
 "cells": [
  {
   "cell_type": "code",
   "execution_count": 13,
   "id": "f38d6abb",
   "metadata": {},
   "outputs": [
    {
     "name": "stdout",
     "output_type": "stream",
     "text": [
      "initialized class\n",
      "looking for notebook nested\\directory\\nested_example.ipynb\n",
      "converting Jupyter notebook from nested\\directory\\nested_example.ipynb\n",
      "looking for notebook nested\\directory\\nested_example.ipynb\n",
      "converting Jupyter notebook from nested\\directory\\nested_example.ipynb\n",
      "print foobar\n"
     ]
    },
    {
     "data": {
      "text/plain": [
       "'return foobar'"
      ]
     },
     "execution_count": 13,
     "metadata": {},
     "output_type": "execute_result"
    }
   ],
   "source": [
    "import os\n",
    "\n",
    "from notebook_import import import_notebook, convert_to_module\n",
    "# import NotebookLoader().load_module('second_example') as tnb\n",
    "\n",
    "class Foo:\n",
    "    \"\"\"\n",
    "    docstring\n",
    "    \"\"\"\n",
    "    # comment\n",
    "    def __init__(self):\n",
    "        \"\"\"another docstring\"\"\"\n",
    "        print(\"initialized class\")\n",
    "        convert_to_module(\"nested_example\", overwrite=True, path=os.path.join(\"nested\", \"directory\"))\n",
    "        convert_to_module(os.path.join(\"nested\", \"directory\", \"nested_example\"), overwrite=True)\n",
    "        import nested.directory.nested_example as te\n",
    "        \n",
    "        \n",
    "        self.value = te.foobar()\n",
    "    \n",
    "    def get_value(self):\n",
    "        return self.value\n",
    "        \n",
    "Foo().value"
   ]
  },
  {
   "cell_type": "code",
   "execution_count": 14,
   "id": "72029755",
   "metadata": {},
   "outputs": [
    {
     "name": "stdout",
     "output_type": "stream",
     "text": [
      "looking for notebook example.ipynb\n",
      "converting Jupyter notebook from example.ipynb\n"
     ]
    }
   ],
   "source": [
    "import ipynbname\n",
    "nb_fname = ipynbname.name()\n",
    "convert_to_module(nb_fname, overwrite=True)"
   ]
  },
  {
   "cell_type": "code",
   "execution_count": 15,
   "id": "05a24886",
   "metadata": {},
   "outputs": [
    {
     "name": "stdout",
     "output_type": "stream",
     "text": [
      "looking for notebook example.ipynb\n"
     ]
    },
    {
     "data": {
      "text/plain": [
       "'example.ipynb'"
      ]
     },
     "execution_count": 15,
     "metadata": {},
     "output_type": "execute_result"
    }
   ],
   "source": [
    "from notebook_import import find_notebook\n",
    "find_notebook(\"example\")\n"
   ]
  },
  {
   "cell_type": "code",
   "execution_count": null,
   "id": "eed699a5",
   "metadata": {},
   "outputs": [],
   "source": []
  }
 ],
 "metadata": {
  "kernelspec": {
   "display_name": "Python 3 (ipykernel)",
   "language": "python",
   "name": "python3"
  },
  "language_info": {
   "codemirror_mode": {
    "name": "ipython",
    "version": 3
   },
   "file_extension": ".py",
   "mimetype": "text/x-python",
   "name": "python",
   "nbconvert_exporter": "python",
   "pygments_lexer": "ipython3",
   "version": "3.10.9"
  }
 },
 "nbformat": 4,
 "nbformat_minor": 5
}
