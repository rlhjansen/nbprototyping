{
 "cells": [
  {
   "cell_type": "code",
   "execution_count": 1,
   "id": "f38d6abb",
   "metadata": {},
   "outputs": [
    {
     "name": "stdout",
     "output_type": "stream",
     "text": [
      "initialized class\n",
      "looking for notebook second_example.ipynb\n",
      "importing Jupyter notebook from second_example.ipynb\n",
      "baz from notebook\n",
      "looking for notebook nested\\directory\\third_example.ipynb\n",
      "importing Jupyter notebook from nested\\directory\\third_example.ipynb\n",
      "looking for notebook nested\\directory\\third_example.ipynb\n",
      "converting Jupyter notebook from nested\\directory\\third_example.ipynb\n",
      "print foobar\n",
      "second notebook name: example\n",
      "print foobar\n",
      "nested import function calls are possible, but do you really want it? return foobar\n"
     ]
    },
    {
     "data": {
      "text/plain": [
       "'baz'"
      ]
     },
     "execution_count": 1,
     "metadata": {},
     "output_type": "execute_result"
    }
   ],
   "source": [
    "from notebook_import import import_notebook, convert_to_module\n",
    "# import NotebookLoader().load_module('second_example') as tnb\n",
    "\n",
    "class Foo:\n",
    "    \"\"\"\n",
    "    docstring\n",
    "    \"\"\"\n",
    "    # comment\n",
    "    def __init__(self):\n",
    "        \"\"\"another docstring\"\"\"\n",
    "        print(\"initialized class\")\n",
    "        # another comment\n",
    "        tnb = import_notebook('second_example')\n",
    "        print(\"second notebook name:\", tnb.snn)\n",
    "        print(\"nested import function calls are possible, but do you really want it?\", tnb.te.foobar())\n",
    "        \n",
    "        self.value = tnb.bar()\n",
    "        \n",
    "Foo().value"
   ]
  },
  {
   "cell_type": "code",
   "execution_count": 2,
   "id": "247c65d8",
   "metadata": {},
   "outputs": [
    {
     "name": "stdout",
     "output_type": "stream",
     "text": [
      "looking for notebook second_example.ipynb\n",
      "converting Jupyter notebook from second_example.ipynb\n",
      "baz\n"
     ]
    }
   ],
   "source": [
    "from notebook_import import convert_to_module\n",
    "convert_to_module(\"second_example\", overwrite=True)\n",
    "import second_example as se\n",
    "print(se.bar())\n"
   ]
  },
  {
   "cell_type": "code",
   "execution_count": 3,
   "id": "72029755",
   "metadata": {},
   "outputs": [
    {
     "name": "stdout",
     "output_type": "stream",
     "text": [
      "looking for notebook example.ipynb\n",
      "converting Jupyter notebook from example.ipynb\n",
      "sss ['from', 'notebook_import', 'import', 'import_notebook,', 'convert_to_module']\n"
     ]
    }
   ],
   "source": [
    "import ipynbname\n",
    "nb_fname = ipynbname.name()\n",
    "convert_to_module(nb_fname, overwrite=True)"
   ]
  },
  {
   "cell_type": "code",
   "execution_count": 4,
   "id": "729a953d",
   "metadata": {},
   "outputs": [
    {
     "name": "stdout",
     "output_type": "stream",
     "text": [
      "looking for notebook nested\\directory\\third_example.ipynb\n",
      "converting Jupyter notebook from nested\\directory\\third_example.ipynb\n",
      "looking for notebook nested\\directory\\third_example.ipynb\n",
      "converting Jupyter notebook from nested\\directory\\third_example.ipynb\n"
     ]
    }
   ],
   "source": [
    "import os\n",
    "convert_to_module(\"third_example\", overwrite=True, path=os.path.join(\"nested\", \"directory\"))\n",
    "convert_to_module(os.path.join(\"nested\", \"directory\", \"third_example\"), overwrite=True)"
   ]
  },
  {
   "cell_type": "code",
   "execution_count": null,
   "id": "05a24886",
   "metadata": {},
   "outputs": [],
   "source": []
  }
 ],
 "metadata": {
  "kernelspec": {
   "display_name": "Python 3 (ipykernel)",
   "language": "python",
   "name": "python3"
  },
  "language_info": {
   "codemirror_mode": {
    "name": "ipython",
    "version": 3
   },
   "file_extension": ".py",
   "mimetype": "text/x-python",
   "name": "python",
   "nbconvert_exporter": "python",
   "pygments_lexer": "ipython3",
   "version": "3.10.9"
  }
 },
 "nbformat": 4,
 "nbformat_minor": 5
}
